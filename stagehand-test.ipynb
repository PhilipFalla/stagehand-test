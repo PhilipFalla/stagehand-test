{
 "cells": [
  {
   "cell_type": "code",
   "execution_count": 3,
   "metadata": {},
   "outputs": [],
   "source": [
    "// Deno imports\n",
    "import { Stagehand } from \"npm:@browserbasehq/stagehand\";\n",
    "import { z } from \"npm:zod\";\n",
    "import yaml from \"npm:js-yaml\";\n",
    "\n",
    "const cdpPort = 9222;\n",
    "let stagehand = null;\n",
    "\n"
   ]
  },
  {
   "cell_type": "code",
   "execution_count": 4,
   "metadata": {},
   "outputs": [
    {
     "data": {
      "text/plain": [
       "Promise { \u001b[36m<pending>\u001b[39m }"
      ]
     },
     "execution_count": 4,
     "metadata": {},
     "output_type": "execute_result"
    },
    {
     "name": "stdout",
     "output_type": "stream",
     "text": [
      "Stagehand initialized successfully!\n"
     ]
    }
   ],
   "source": [
    "//Initialize Stagehand\n",
    "(async () => {\n",
    "  stagehand = new Stagehand({\n",
    "    verbose: 1, // Verbosity level for logging: 0 = silent, 1 = info, 2 = all\n",
    "    domSettleTimeoutMs: 30_000, // Timeout for DOM to settle in milliseconds\n",
    "\n",
    "    // LLM configuration\n",
    "    modelName: \"gpt-4o\", // Name of the model to use\n",
    "    modelClientOptions: {\n",
    "      apiKey: process.env.OPENAI_API_KEY,\n",
    "    }, // Configuration options for the model client\n",
    "\n",
    "    // Browser configuration\n",
    "    env: \"LOCAL\", // Environment to run in: LOCAL or BROWSERBASE\n",
    "    localBrowserLaunchOptions: {\n",
    "      cdpUrl: `http://localhost:${cdpPort}`,\n",
    "      viewport: {\n",
    "        width: 1024,\n",
    "        height: 768,\n",
    "      },\n",
    "    }, // Configuration options for the local browser\n",
    "  });\n",
    "  await stagehand.init();\n",
    "\n",
    "  console.log(\"Stagehand initialized successfully!\");\n",
    "})();\n"
   ]
  },
  {
   "cell_type": "code",
   "execution_count": 8,
   "metadata": {},
   "outputs": [
    {
     "data": {
      "text/plain": [
       "Promise { \u001b[36m<pending>\u001b[39m }"
      ]
     },
     "execution_count": 8,
     "metadata": {},
     "output_type": "execute_result"
    }
   ],
   "source": [
    "(async () => {\n",
    "    await stagehand.page.goto('https://google.com')\n",
    "})();"
   ]
  }
 ],
 "metadata": {
  "kernelspec": {
   "display_name": "Deno",
   "language": "typescript",
   "name": "deno"
  },
  "language_info": {
   "codemirror_mode": "typescript",
   "file_extension": ".ts",
   "mimetype": "text/x.typescript",
   "name": "typescript",
   "nbconvert_exporter": "script",
   "pygments_lexer": "typescript",
   "version": "5.8.3"
  }
 },
 "nbformat": 4,
 "nbformat_minor": 2
}
